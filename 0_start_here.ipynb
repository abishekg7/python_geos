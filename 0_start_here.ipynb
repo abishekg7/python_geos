{
 "cells": [
  {
   "cell_type": "markdown",
   "id": "39b4b37b",
   "metadata": {},
   "source": [
    "# Python Tools for geoscientists\n",
    "\n",
    "A short course offered by Texas A&M High Performance Research Computing in Fall 2021. Short course home page: \n",
    "https://hprc.tamu.edu/training/python_geo.html\n",
    "\n",
    "This short course will introduce some basic Python packages relevant to Geoscientific data analysis. We will introduce the Pangeo collection of python-based utilities to process and visualize output from General Circulation Models (GCMs). Using model output in the netCDF format, we will look at how to generate climatology and time-averages, visualize quantities, resample data, take spatial derivatives, perform interpolations in the vertical coordinates, and how to regrid unstructured grid data to a regular grid. We will also discuss obtaining Buoy and Satellite data using Siphon.\n",
    "\n",
    "The contents of this course are based on the excellent training materials offered by the xarray, dask, and Pangeo communities. See `Useful links` below. \n",
    "\n",
    "### Agenda\n",
    "\n",
    "- Brief introduction to the Pangeo framework\n",
    "- Data structures in xarray\n",
    "- Reading and writing netCDF files using xarray\n",
    "- Visualizing xarray DataArrays with cartopy\n",
    "- Grid-aware, spatial operations using xgcm\n",
    "- Vertical interpolation with xgcm\n",
    "- Regridding unstructured data with ESMPy\n",
    "- Accessing Buoy and Satellite data with Siphon\n",
    "\n",
    "\n",
    "This tutorial is designed to run on the HPRC Cluster Terra as part of the short course. If you choose to install the tutorial locally, follow these steps:\n",
    "\n",
    "1. Clone the repository:\n",
    "   ```\n",
    "   git clone https://github.com/abishekg7/python_geos.git\n",
    "   ```\n",
    "\n",
    "1. Install the environment. The repository includes an `environment.yaml` in the\n",
    "   main directory that contains a list of all the packages needed to run\n",
    "   this tutorial. To install them using conda run:\n",
    "\n",
    "   ```\n",
    "   conda env create -f environment.yml\n",
    "   conda activate training\n",
    "   ```\n",
    "\n",
    "1. Start a Jupyter session:\n",
    "\n",
    "   ```\n",
    "   jupyter lab\n",
    "   ```\n",
    "\n",
    "## Useful links\n",
    "\n",
    "- Detailed online tutorials created by developers + community\n",
    "\n",
    "    - [xarray-tutorial](https://github.com/xarray-contrib/xarray-tutorial) \n",
    "    - [dask-tutorial](https://github.com/dask/dask-tutorial)\n",
    "\n",
    "\n",
    "- Additional Python resources (some from HPRC)\n",
    "\n",
    "    - [Introduction to Python](https://hprc.tamu.edu/training/intro_python.html)\n",
    "    - [Introduction to Scientific Python](https://hprc.tamu.edu/training/intro_scientific_python.html)\n",
    "    - [Introduction to Python for MATLAB users](https://hprc.tamu.edu/training/python_matlab.html)\n",
    "    - [NumPy for MATLAB users (Quick reference)](http://mathesaurus.sourceforge.net/matlab-numpy.html)\n",
    "\n",
    "- Official Documentation\n",
    "\n",
    "    - [xarray docs](http://xarray.pydata.org/en/stable/)\n",
    "    - [Dask docs](https://dask.org/)\n",
    "\n",
    "- Ask for help:\n",
    "\n",
    "    - Use the [python-xarray](https://stackoverflow.com/questions/tagged/python-xarray) on StackOverflow\n",
    "    - [GitHub Issues](https://github.com/pydata/xarray/issues) for bug reports and feature requests\n",
    "    -  [`dask`](http://stackoverflow.com/questions/tagged/dask) tag on Stack Overflow, for usage questions\n",
    "    -  [github issues](https://github.com/dask/dask/issues/new) for bug reports and feature requests\n",
    "\n",
    "\n",
    "\n",
    "## Tutorial Structure\n",
    "\n",
    "This tutorial is made up of multiple Jupyter Notebooks. These notebooks mix\n",
    "code, text, visualization, and exercises.\n",
    "\n",
    "If you haven't used JupyterLab before, it's similar to the Jupyter Notebook. If\n",
    "you haven't used the Notebook, the quick intro is\n",
    "\n",
    "1. There are two modes: command and edit\n",
    "1. From command mode, press Enter to edit a cell (like this markdown cell)\n",
    "1. From edit mode, press Esc to change to command mode\n",
    "1. Press shift+enter to execute a cell and move to the next cell.\n",
    "1. The toolbar has commands for executing, converting, and creating cells.\n",
    "\n",
    "The layout of the tutorial will be as follows:\n",
    "\n",
    "1. [Data structures in xarray](./1_xarray_data_structures.ipynb)\n",
    "1. [Reading and visualizing climate data](2_xarray_climate.ipynb)\n",
    "1. [Computation with Xarray](3_xarray_operators.ipynb)\n",
    "1. [Grid-aware operations with xgcm](4_xgcm_grid_utils.ipynb)\n",
    "1. [Regridding data with ESMPy](5_esmpy_regrid.ipynb)\n",
    "1. [Accessing NDBC Buoy data with the Siphon API](6_Siphon_NDBC_Buoy.ipynb)\n",
    "\n",
    "## Exercise: Print Hello, world!\n",
    "\n",
    "Each notebook will have exercises for you to solve. You'll be given a blank or\n",
    "partially completed cell, followed by a hidden cell with a solution. For\n",
    "example.\n",
    "\n",
    "Print the text \"Hello, world!\".\n"
   ]
  },
  {
   "cell_type": "code",
   "execution_count": 1,
   "id": "65abab25",
   "metadata": {},
   "outputs": [
    {
     "name": "stdout",
     "output_type": "stream",
     "text": [
      "Hello world\n"
     ]
    }
   ],
   "source": [
    "print('Hello world')"
   ]
  },
  {
   "cell_type": "code",
   "execution_count": 2,
   "id": "5b8edfb2",
   "metadata": {
    "jupyter": {
     "source_hidden": true
    },
    "tags": []
   },
   "outputs": [
    {
     "name": "stdout",
     "output_type": "stream",
     "text": [
      "Hello, world!\n"
     ]
    }
   ],
   "source": [
    "print(\"Hello, world!\")"
   ]
  },
  {
   "cell_type": "markdown",
   "id": "65a67fce",
   "metadata": {
    "tags": []
   },
   "source": [
    "### Run the cell below. Let's make sure the virtual environment is loaded correctly"
   ]
  },
  {
   "cell_type": "code",
   "execution_count": 3,
   "id": "ccfa251e",
   "metadata": {
    "tags": []
   },
   "outputs": [],
   "source": [
    "import xarray\n",
    "import cartopy"
   ]
  },
  {
   "cell_type": "code",
   "execution_count": null,
   "id": "31d2d4ec-ab9e-4270-8422-062ce962a601",
   "metadata": {},
   "outputs": [],
   "source": []
  }
 ],
 "metadata": {
  "kernelspec": {
   "display_name": "Python 3 (ipykernel)",
   "language": "python",
   "name": "python3"
  },
  "language_info": {
   "codemirror_mode": {
    "name": "ipython",
    "version": 3
   },
   "file_extension": ".py",
   "mimetype": "text/x-python",
   "name": "python",
   "nbconvert_exporter": "python",
   "pygments_lexer": "ipython3",
   "version": "3.7.10"
  }
 },
 "nbformat": 4,
 "nbformat_minor": 5
}
